{
 "cells": [
  {
   "cell_type": "markdown",
   "metadata": {},
   "source": [
    "# Googling how to do something is NOT cheating. \n",
    "# Googling how to do figure something out is ENCOURAGED. "
   ]
  },
  {
   "cell_type": "markdown",
   "metadata": {},
   "source": [
    "## #1 Figure out how to print the current date and time. \n",
    "The solution should be in this format:  2021-08-05 11:56:30 (YYYY-MM-DD HH:MM:SS)\n",
    "\n",
    "Hint:  You're going to have to import a library"
   ]
  },
  {
   "cell_type": "code",
   "execution_count": 1,
   "metadata": {},
   "outputs": [
    {
     "name": "stdout",
     "output_type": "stream",
     "text": [
      "2023-08-03 22:50:06.121741\n"
     ]
    }
   ],
   "source": [
    "import datetime\n",
    "current_date_time = datetime.datetime.now()\n",
    "\n",
    "print(current_date_time)"
   ]
  },
  {
   "cell_type": "markdown",
   "metadata": {},
   "source": [
    "## #2 Write a function that accepts the radius of a circle and returns the area of a circle.  \n",
    "The function for the area of a circle is pi * radius squared.  "
   ]
  },
  {
   "cell_type": "code",
   "execution_count": 3,
   "metadata": {},
   "outputs": [
    {
     "name": "stdout",
     "output_type": "stream",
     "text": [
      "12.566370614359172\n"
     ]
    }
   ],
   "source": [
    "import math\n",
    "def areaofCircle(radius):\n",
    "    return radius * radius * math.pi\n",
    "\n",
    "print(areaofCircle(2))"
   ]
  },
  {
   "cell_type": "markdown",
   "metadata": {},
   "source": [
    "## #3 Write a function that takes a list of numbers and returns True of all number in the list are unique and returns False if the list contains duplicate numbers. \n",
    "* Hint, maybe think of using a set()\n",
    "\n",
    "Input:  input_list = [2,4,5,5,7,9]\n",
    "\n",
    "Expected Output:  False"
   ]
  },
  {
   "cell_type": "code",
   "execution_count": 11,
   "metadata": {},
   "outputs": [
    {
     "name": "stdout",
     "output_type": "stream",
     "text": [
      "True\n",
      "False\n"
     ]
    }
   ],
   "source": [
    "def uniqueList(input_list):\n",
    "    if input_list == list(set(input_list)):\n",
    "        return True\n",
    "    else:\n",
    "        return False\n",
    "\n",
    "uniquelst = [2,4,5,7,9]\n",
    "dupeslst = [2,4,5,5,7,9]\n",
    "print(uniqueList(uniquelst))\n",
    "print(uniqueList(dupeslst))"
   ]
  },
  {
   "cell_type": "markdown",
   "metadata": {},
   "source": [
    "## #4 Write a Python program to count the number of each character of a given text of a text file.\n",
    "* Use the text file called 'lil-wayne.txt' in the data folder.  \n",
    "* Convert all the characters to uppercase first, then count them.  \n",
    "* Use a dictionary in which the keys of the dictionary are the characters, and the values are the counts of that character. \n",
    "\n",
    "Expected Result:  `{'D': 74, 'W': 63, 'A': 211, 'Y': 44, 'N': 165, 'E': 274, ' ': 522, 'M': 77, 'I': 185, 'C': 60, 'H': 122, 'L': 126, 'R': 152, 'T': 180, 'J': 8, '.': 26, '(': 12, 'B': 59, 'O': 145, 'S': 152, 'P': 39, '2': 24, '7': 7, ',': 37, '1': 28, '9': 16, '8': 6, ')': 12, '[': 14, ']': 14, 'K': 13, 'F': 44, 'G': 53, 'X': 5, 'U': 66, 'V': 20, '3': 2, '4': 4, '5': 5, '6': 3, '0': 36, '\\n': 6, '-': 6, ';': 1, '!': 1, '\"': 8, \"'\": 3, '—': 1}`"
   ]
  },
  {
   "cell_type": "code",
   "execution_count": 97,
   "metadata": {},
   "outputs": [
    {
     "name": "stdout",
     "output_type": "stream",
     "text": [
      "{'D': 74, 'W': 63, 'A': 211, 'Y': 44, 'N': 165, 'E': 274, ' ': 522, 'M': 77, 'I': 185, 'C': 60, 'H': 122, 'L': 126, 'R': 152, 'T': 180, 'J': 8, '.': 26, '(': 12, 'B': 59, 'O': 145, 'S': 152, 'P': 39, '2': 24, '7': 7, ',': 37, '1': 28, '9': 16, '8': 6, ')': 12, '[': 14, ']': 14, 'K': 13, 'F': 44, 'G': 53, 'X': 5, 'U': 66, 'V': 20, '3': 2, '4': 4, '5': 5, '6': 3, '0': 36, '\\n': 6, '-': 6, ';': 1, '!': 1, 'Â': 1, '€': 1, '”': 1}\n"
     ]
    }
   ],
   "source": [
    "with open(\"C:/Users/kaguy/Desktop/summer-prep-hws/2023-python-summer-prep/week-03/data/lil-wayne.txt\") as f:\n",
    "    lines = f.readlines()\n",
    "frequency = {}\n",
    "for line in lines:\n",
    "    for char in line:\n",
    "        if not char.upper() in frequency:\n",
    "            frequency[char.upper()] = 1\n",
    "        else:\n",
    "            frequency[char.upper()] += 1\n",
    "print(frequency)"
   ]
  },
  {
   "cell_type": "markdown",
   "metadata": {},
   "source": [
    "# 4.5 Figure out how to sort the dictionary to find which character appears the most."
   ]
  },
  {
   "cell_type": "code",
   "execution_count": 100,
   "metadata": {},
   "outputs": [
    {
     "name": "stdout",
     "output_type": "stream",
     "text": [
      "[(' ', 522), ('E', 274), ('A', 211), ('I', 185), ('T', 180), ('N', 165), ('R', 152), ('S', 152), ('O', 145), ('L', 126), ('H', 122), ('M', 77), ('D', 74), ('U', 66), ('W', 63), ('C', 60), ('B', 59), ('G', 53), ('Y', 44), ('F', 44), ('P', 39), (',', 37), ('0', 36), ('1', 28), ('.', 26), ('2', 24), ('V', 20), ('9', 16), ('[', 14), (']', 14), ('K', 13), ('(', 12), (')', 12), ('J', 8), ('7', 7), ('8', 6), ('\\n', 6), ('-', 6), ('X', 5), ('5', 5), ('4', 4), ('6', 3), ('3', 2), (';', 1), ('!', 1), ('Â', 1), ('€', 1), ('”', 1)]\n"
     ]
    }
   ],
   "source": [
    "highest_freq = sorted(frequency.items(), key=lambda x:x[1], reverse=True)\n",
    "print(highest_freq)"
   ]
  },
  {
   "cell_type": "markdown",
   "metadata": {},
   "source": [
    "## #5 Using the list below...\n",
    "* Remove the fourth number from the list.\n",
    "* Take that number you just removed and multiply the last number of the list by that number. \n",
    "* Append that number to the end of the list.\n",
    "* Print the list\n",
    "\n",
    "INPUT: [1, 1, 2, 3, 5, 8, 13, 21]\n",
    "\n",
    "EXPECTED OUTPUT:  [1, 1, 2, 5, 8, 13, 21, 63]\n",
    "\n"
   ]
  },
  {
   "cell_type": "code",
   "execution_count": 25,
   "metadata": {},
   "outputs": [
    {
     "name": "stdout",
     "output_type": "stream",
     "text": [
      "[1, 1, 2, 5, 8, 13, 21, 3]\n"
     ]
    }
   ],
   "source": [
    "list1 = [1, 1, 2, 3, 5, 8, 13, 21]\n",
    "num = list1.pop(3)\n",
    "list1.append(num)\n",
    "\n",
    "print(list1)"
   ]
  },
  {
   "cell_type": "markdown",
   "metadata": {},
   "source": [
    "## #6 Using the list below, make a new list that contains only the numbers from the original list that are divisible by three.\n",
    "\n",
    "* Input:  original_list = [2, 3, 6, 8, 9, 15, 19, 21]\n",
    "* Expected new list:  [3, 6, 9, 15, 21]\n"
   ]
  },
  {
   "cell_type": "code",
   "execution_count": 36,
   "metadata": {},
   "outputs": [
    {
     "name": "stdout",
     "output_type": "stream",
     "text": [
      "[3, 6, 9, 15, 21]\n"
     ]
    }
   ],
   "source": [
    "original_list = [2, 3, 6, 8, 9, 15, 19, 21]\n",
    "new_list = []\n",
    "\n",
    "for i in original_list:\n",
    "    if i%3 == 0:\n",
    "        new_list.append(i)\n",
    "print(new_list)"
   ]
  },
  {
   "cell_type": "markdown",
   "metadata": {},
   "source": [
    "## #7 Reverse the list below"
   ]
  },
  {
   "cell_type": "code",
   "execution_count": 3,
   "metadata": {},
   "outputs": [],
   "source": [
    "original_list = [2, 3, 6, 8, 9, 15, 19, 21]"
   ]
  },
  {
   "cell_type": "markdown",
   "metadata": {},
   "source": [
    "## #8 Using the list below, turn every item of the list into its square.  \n",
    "* Input original_list = [1, 2, 3, 4, 5, 6, 7]\n",
    "* Expected new_list:  [1, 4, 9, 16, 25, 36, 49]\n"
   ]
  },
  {
   "cell_type": "code",
   "execution_count": 37,
   "metadata": {},
   "outputs": [
    {
     "name": "stdout",
     "output_type": "stream",
     "text": [
      "[1, 4, 9, 16, 25, 36, 49]\n"
     ]
    }
   ],
   "source": [
    "original_list = [1, 2, 3, 4, 5, 6, 7]\n",
    "new_list = []\n",
    "for i in original_list:\n",
    "    new_list.append(i*i)\n",
    "print(new_list)"
   ]
  },
  {
   "cell_type": "markdown",
   "metadata": {},
   "source": [
    "## #9  Given a two Python list. Iterate both lists simultaneously such that list1 should display item in original order and list2 in reverse order.\n",
    "Given input:\n",
    "```\n",
    "list1 = [10, 20, 30, 40]\n",
    "list2 = [100, 200, 300, 400]\n",
    "```\n",
    "\n",
    "Expected Output:\n",
    "```\n",
    "10 400\n",
    "20 300\n",
    "30 200\n",
    "40 100\n",
    "```"
   ]
  },
  {
   "cell_type": "code",
   "execution_count": 38,
   "metadata": {},
   "outputs": [
    {
     "name": "stdout",
     "output_type": "stream",
     "text": [
      "10 400\n",
      "20 300\n",
      "30 200\n",
      "40 100\n"
     ]
    }
   ],
   "source": [
    "list1 = [10, 20, 30, 40]\n",
    "list2 = [100, 200, 300, 400]\n",
    "\n",
    "for i in range(len(list1)):\n",
    "    print(list1[i], list2[len(list1)-1-i])"
   ]
  },
  {
   "cell_type": "markdown",
   "metadata": {},
   "source": [
    "## #10 Remove empty strings from the list of strings.\n",
    "Input:  `list_of_strings = ['I', 'love', '', '', 'data', '', 'science', '!']`\n",
    "\n",
    "Expected Output:  `['I', 'love', 'data', 'science', '!']`"
   ]
  },
  {
   "cell_type": "code",
   "execution_count": 45,
   "metadata": {},
   "outputs": [
    {
     "name": "stdout",
     "output_type": "stream",
     "text": [
      "['I', 'love', 'data', 'science', '!']\n"
     ]
    }
   ],
   "source": [
    "list_of_strings = ['I', 'love', '', '', 'data', '', 'science', '!']\n",
    "\n",
    "while '' in list_of_strings:\n",
    "    list_of_strings.remove('')\n",
    "\n",
    "print(list_of_strings)"
   ]
  },
  {
   "cell_type": "markdown",
   "metadata": {},
   "source": [
    "##  #11 Check if the value 999 exists in the dicitionary below.  If so, print true, if not print false.\n",
    "\n",
    "Input: sample_dict = {'a': 100, 'b': 999, 'c': 300}\n",
    "\n",
    "Expected Output:  True"
   ]
  },
  {
   "cell_type": "code",
   "execution_count": 56,
   "metadata": {},
   "outputs": [
    {
     "name": "stdout",
     "output_type": "stream",
     "text": [
      "True\n"
     ]
    }
   ],
   "source": [
    "sample_dict = {'a': 100, 'b': 999, 'c': 300}\n",
    "\n",
    "def check999(sample_dict):\n",
    "    for i in sample_dict:\n",
    "        if sample_dict[i] == 999:\n",
    "            return True\n",
    "    return False\n",
    "\n",
    "print(check999(sample_dict))"
   ]
  },
  {
   "cell_type": "markdown",
   "metadata": {},
   "source": [
    "# Extra Credit"
   ]
  },
  {
   "cell_type": "markdown",
   "metadata": {},
   "source": [
    "## Using pandas, read the csv file in the data folder called `titianic.csv` and store it as a variable named `df`."
   ]
  },
  {
   "cell_type": "code",
   "execution_count": 59,
   "metadata": {},
   "outputs": [
    {
     "data": {
      "text/html": [
       "<div>\n",
       "<style scoped>\n",
       "    .dataframe tbody tr th:only-of-type {\n",
       "        vertical-align: middle;\n",
       "    }\n",
       "\n",
       "    .dataframe tbody tr th {\n",
       "        vertical-align: top;\n",
       "    }\n",
       "\n",
       "    .dataframe thead th {\n",
       "        text-align: right;\n",
       "    }\n",
       "</style>\n",
       "<table border=\"1\" class=\"dataframe\">\n",
       "  <thead>\n",
       "    <tr style=\"text-align: right;\">\n",
       "      <th></th>\n",
       "      <th>passengerid</th>\n",
       "      <th>survived</th>\n",
       "      <th>pclass</th>\n",
       "      <th>name</th>\n",
       "      <th>sex</th>\n",
       "      <th>age</th>\n",
       "      <th>sibsp</th>\n",
       "      <th>parch</th>\n",
       "      <th>ticket</th>\n",
       "      <th>fare</th>\n",
       "      <th>cabin</th>\n",
       "      <th>embarked</th>\n",
       "    </tr>\n",
       "  </thead>\n",
       "  <tbody>\n",
       "    <tr>\n",
       "      <th>0</th>\n",
       "      <td>1</td>\n",
       "      <td>0</td>\n",
       "      <td>3</td>\n",
       "      <td>Braund, Mr. Owen Harris</td>\n",
       "      <td>male</td>\n",
       "      <td>22.0</td>\n",
       "      <td>1</td>\n",
       "      <td>0</td>\n",
       "      <td>A/5 21171</td>\n",
       "      <td>7.2500</td>\n",
       "      <td>NaN</td>\n",
       "      <td>S</td>\n",
       "    </tr>\n",
       "    <tr>\n",
       "      <th>1</th>\n",
       "      <td>2</td>\n",
       "      <td>1</td>\n",
       "      <td>1</td>\n",
       "      <td>Cumings, Mrs. John Bradley (Florence Briggs Th...</td>\n",
       "      <td>female</td>\n",
       "      <td>38.0</td>\n",
       "      <td>1</td>\n",
       "      <td>0</td>\n",
       "      <td>PC 17599</td>\n",
       "      <td>71.2833</td>\n",
       "      <td>C85</td>\n",
       "      <td>C</td>\n",
       "    </tr>\n",
       "    <tr>\n",
       "      <th>2</th>\n",
       "      <td>3</td>\n",
       "      <td>1</td>\n",
       "      <td>3</td>\n",
       "      <td>Heikkinen, Miss. Laina</td>\n",
       "      <td>female</td>\n",
       "      <td>26.0</td>\n",
       "      <td>0</td>\n",
       "      <td>0</td>\n",
       "      <td>STON/O2. 3101282</td>\n",
       "      <td>7.9250</td>\n",
       "      <td>NaN</td>\n",
       "      <td>S</td>\n",
       "    </tr>\n",
       "    <tr>\n",
       "      <th>3</th>\n",
       "      <td>4</td>\n",
       "      <td>1</td>\n",
       "      <td>1</td>\n",
       "      <td>Futrelle, Mrs. Jacques Heath (Lily May Peel)</td>\n",
       "      <td>female</td>\n",
       "      <td>35.0</td>\n",
       "      <td>1</td>\n",
       "      <td>0</td>\n",
       "      <td>113803</td>\n",
       "      <td>53.1000</td>\n",
       "      <td>C123</td>\n",
       "      <td>S</td>\n",
       "    </tr>\n",
       "    <tr>\n",
       "      <th>4</th>\n",
       "      <td>5</td>\n",
       "      <td>0</td>\n",
       "      <td>3</td>\n",
       "      <td>Allen, Mr. William Henry</td>\n",
       "      <td>male</td>\n",
       "      <td>35.0</td>\n",
       "      <td>0</td>\n",
       "      <td>0</td>\n",
       "      <td>373450</td>\n",
       "      <td>8.0500</td>\n",
       "      <td>NaN</td>\n",
       "      <td>S</td>\n",
       "    </tr>\n",
       "  </tbody>\n",
       "</table>\n",
       "</div>"
      ],
      "text/plain": [
       "   passengerid  survived  pclass  \\\n",
       "0            1         0       3   \n",
       "1            2         1       1   \n",
       "2            3         1       3   \n",
       "3            4         1       1   \n",
       "4            5         0       3   \n",
       "\n",
       "                                                name     sex   age  sibsp  \\\n",
       "0                            Braund, Mr. Owen Harris    male  22.0      1   \n",
       "1  Cumings, Mrs. John Bradley (Florence Briggs Th...  female  38.0      1   \n",
       "2                             Heikkinen, Miss. Laina  female  26.0      0   \n",
       "3       Futrelle, Mrs. Jacques Heath (Lily May Peel)  female  35.0      1   \n",
       "4                           Allen, Mr. William Henry    male  35.0      0   \n",
       "\n",
       "   parch            ticket     fare cabin embarked  \n",
       "0      0         A/5 21171   7.2500   NaN        S  \n",
       "1      0          PC 17599  71.2833   C85        C  \n",
       "2      0  STON/O2. 3101282   7.9250   NaN        S  \n",
       "3      0            113803  53.1000  C123        S  \n",
       "4      0            373450   8.0500   NaN        S  "
      ]
     },
     "execution_count": 59,
     "metadata": {},
     "output_type": "execute_result"
    }
   ],
   "source": [
    "import pandas as pd\n",
    "df = pd.read_csv(\"C:/Users/kaguy/Desktop/summer-prep-hws/2023-python-summer-prep/week-03/data/titanic.csv\")\n",
    "df.head()"
   ]
  },
  {
   "cell_type": "markdown",
   "metadata": {},
   "source": [
    "## I know we didn't cover this, but figure out how to find the mean age of the age column in your dataframe. "
   ]
  },
  {
   "cell_type": "code",
   "execution_count": 62,
   "metadata": {},
   "outputs": [
    {
     "data": {
      "text/plain": [
       "29.69911764705882"
      ]
     },
     "execution_count": 62,
     "metadata": {},
     "output_type": "execute_result"
    }
   ],
   "source": [
    "df['age'].mean()"
   ]
  },
  {
   "cell_type": "markdown",
   "metadata": {},
   "source": [
    "## What was the oldest and youngest ages on the titanic?"
   ]
  },
  {
   "cell_type": "code",
   "execution_count": 70,
   "metadata": {},
   "outputs": [
    {
     "name": "stdout",
     "output_type": "stream",
     "text": [
      "0.42\n",
      "80.0\n"
     ]
    },
    {
     "data": {
      "text/plain": [
       "count    714.000000\n",
       "mean      29.699118\n",
       "std       14.526497\n",
       "min        0.420000\n",
       "25%       20.125000\n",
       "50%       28.000000\n",
       "75%       38.000000\n",
       "max       80.000000\n",
       "Name: age, dtype: float64"
      ]
     },
     "execution_count": 70,
     "metadata": {},
     "output_type": "execute_result"
    }
   ],
   "source": [
    "print(df['age'].min())\n",
    "print(df['age'].max())\n",
    "df['age'].describe()"
   ]
  },
  {
   "cell_type": "markdown",
   "metadata": {},
   "source": [
    "## How many people embarked from station 'S'?"
   ]
  },
  {
   "cell_type": "code",
   "execution_count": 80,
   "metadata": {},
   "outputs": [
    {
     "data": {
      "text/plain": [
       "passengerid    644\n",
       "survived       644\n",
       "pclass         644\n",
       "name           644\n",
       "sex            644\n",
       "age            554\n",
       "sibsp          644\n",
       "parch          644\n",
       "ticket         644\n",
       "fare           644\n",
       "cabin          129\n",
       "embarked       644\n",
       "dtype: int64"
      ]
     },
     "execution_count": 80,
     "metadata": {},
     "output_type": "execute_result"
    }
   ],
   "source": [
    "embarked = df.loc[df['embarked'] == 'S']\n",
    "embarked.count()\n"
   ]
  },
  {
   "cell_type": "code",
   "execution_count": null,
   "metadata": {},
   "outputs": [],
   "source": []
  }
 ],
 "metadata": {
  "kernelspec": {
   "display_name": "Python 3 (ipykernel)",
   "language": "python",
   "name": "python3"
  },
  "language_info": {
   "codemirror_mode": {
    "name": "ipython",
    "version": 3
   },
   "file_extension": ".py",
   "mimetype": "text/x-python",
   "name": "python",
   "nbconvert_exporter": "python",
   "pygments_lexer": "ipython3",
   "version": "3.10.9"
  }
 },
 "nbformat": 4,
 "nbformat_minor": 4
}
