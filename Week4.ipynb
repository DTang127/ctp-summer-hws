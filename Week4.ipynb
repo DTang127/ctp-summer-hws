{
 "cells": [
  {
   "cell_type": "markdown",
   "metadata": {},
   "source": [
    "# List Overlap \n",
    "Write a program that returns a list that contains only the elements that are common between the lists (without duplicates). Make sure your program works on two lists of different sizes."
   ]
  },
  {
   "cell_type": "code",
   "execution_count": 1,
   "metadata": {},
   "outputs": [
    {
     "data": {
      "text/plain": [
       "[1, 2, 3, 5, 8, 13]"
      ]
     },
     "execution_count": 1,
     "metadata": {},
     "output_type": "execute_result"
    }
   ],
   "source": [
    "a = [1, 1, 2, 3, 5, 8, 13, 21, 34, 55, 89]\n",
    "b = [1, 2, 3, 4, 5, 6, 7, 8, 9, 10, 11, 12, 13]\n",
    "\n",
    "common = []\n",
    "if len(a) >= len(b):\n",
    "    for value in a:\n",
    "        if value in b and value in common:\n",
    "            continue\n",
    "        elif value in b:\n",
    "            common.append(value)\n",
    "else:\n",
    "    for value in b:\n",
    "        if value in a and value in common:\n",
    "            continue\n",
    "        elif value in a:\n",
    "            common.append(value)\n",
    "\n",
    "common"
   ]
  },
  {
   "cell_type": "markdown",
   "metadata": {},
   "source": [
    "# Rock Paper Scissors\n",
    "\n",
    "Make a two-player Rock-Paper-Scissors game. (Hint: Ask for player plays (using input), compare them, print out a message of congratulations to the winner.)\n",
    "\n",
    "Remember the rules:\n",
    "\n",
    "* Rock beats scissors\n",
    "* Scissors beats paper\n",
    "* Paper beats rock"
   ]
  },
  {
   "cell_type": "code",
   "execution_count": 4,
   "metadata": {},
   "outputs": [
    {
     "name": "stdout",
     "output_type": "stream",
     "text": [
      "2 - player Rock-Paper-Scissors Game\n",
      "Player 1! Choose rock, scissors, or paper: scissors\n",
      "Player 2! Choose rock, scissors, or paper: rock\n",
      "Player 2 wins. Congratulations!\n"
     ]
    }
   ],
   "source": [
    "print(\"2 - player Rock-Paper-Scissors Game\")\n",
    "p1 = input(\"Player 1! Choose rock, scissors, or paper: \")\n",
    "p2 = input(\"Player 2! Choose rock, scissors, or paper: \")\n",
    "rps_game = {'rock':'scissors', 'scissors':'paper', 'paper':'rock'}\n",
    "\n",
    "if rps_game[p1] == p2:\n",
    "    print(\"Player 1 wins. Congratulations!\")\n",
    "elif rps_game[p2] == p1:\n",
    "    print(\"Player 2 wins. Congratulations!\")\n",
    "else:\n",
    "    print(\"It's a draw. Better luck next time :(\")\n"
   ]
  },
  {
   "cell_type": "markdown",
   "metadata": {},
   "source": [
    "# Palindrome \n",
    "\n",
    "Ask the user for a string and print out whether this string is a palindrome or not. (A palindrome is a string that reads the same forwards and backwards.)"
   ]
  },
  {
   "cell_type": "code",
   "execution_count": 9,
   "metadata": {},
   "outputs": [
    {
     "name": "stdout",
     "output_type": "stream",
     "text": [
      "Please input a string: tacocat\n"
     ]
    },
    {
     "data": {
      "text/plain": [
       "True"
      ]
     },
     "execution_count": 9,
     "metadata": {},
     "output_type": "execute_result"
    }
   ],
   "source": [
    "string = input(\"Please input a string: \")\n",
    "\n",
    "def isPalindrome(word):\n",
    "    string.strip()\n",
    "    if word == word[::-1]:\n",
    "        return True\n",
    "    else:\n",
    "        return False\n",
    "\n",
    "isPalindrome(string)"
   ]
  },
  {
   "cell_type": "markdown",
   "metadata": {},
   "source": [
    "# Password Generator\n",
    "Write a password generator in Python. Be creative with how you generate passwords - strong passwords have a mix of lowercase letters, uppercase letters, numbers, and symbols. The passwords should be random.  Ask the user to input how long they want their password to be. "
   ]
  },
  {
   "cell_type": "code",
   "execution_count": 14,
   "metadata": {},
   "outputs": [
    {
     "name": "stdout",
     "output_type": "stream",
     "text": [
      "How long would you like your password? 8\n",
      "5^3@b79E\n"
     ]
    }
   ],
   "source": [
    "import random\n",
    "chars = \"abcdefghijklmnopqrstuvwxyz01234567890ABCDEFGHIJKLMNOPQRSTUVWXYZ!@#$%^&*()?\"\n",
    "\n",
    "length = int(input(\"How long would you like your password? \"))\n",
    "password = []\n",
    "\n",
    "for index in range(length):\n",
    "    password.append(random.choice(chars))\n",
    "\n",
    "password = \"\".join(password)\n",
    "print(password)"
   ]
  },
  {
   "cell_type": "markdown",
   "metadata": {},
   "source": [
    "# Divisors Solutions\n",
    "\n",
    "Create a program that asks the user for a number and then prints out a list of all the divisors of that number. (If you don’t know what a divisor is, it is a number that divides evenly into another number. For example, 13 is a divisor of 26 because 26 / 13 has no remainder.)"
   ]
  },
  {
   "cell_type": "code",
   "execution_count": 17,
   "metadata": {},
   "outputs": [
    {
     "name": "stdout",
     "output_type": "stream",
     "text": [
      "Please input a number: 24\n",
      "[1, 2, 3, 4, 6, 8, 12, 24]\n"
     ]
    }
   ],
   "source": [
    "num = int(input(\"Please input a number: \"))\n",
    "divisors = []\n",
    "\n",
    "for divisor in range(1,num+1):\n",
    "    if num%divisor == 0:\n",
    "        divisors.append(divisor)\n",
    "print(divisors)"
   ]
  },
  {
   "cell_type": "markdown",
   "metadata": {},
   "source": [
    "# Missing Character\n",
    "Given a non-empty string and an int n, return a new string where the char at index n has been removed. The value of n will be a valid index of a char in the original string (i.e. n will be in the range 0..len(str)-1 inclusive).\n",
    "\n",
    "```\n",
    "missing_char('kitten', 1) → 'ktten'\n",
    "missing_char('kitten', 0) → 'itten'\n",
    "missing_char('kitten', 4) → 'kittn'\n",
    "\n",
    "```"
   ]
  },
  {
   "cell_type": "code",
   "execution_count": 24,
   "metadata": {},
   "outputs": [
    {
     "name": "stdout",
     "output_type": "stream",
     "text": [
      "ktten\n",
      "itten\n",
      "kittn\n"
     ]
    }
   ],
   "source": [
    "def missing_char(word, n):\n",
    "    word = list(word)\n",
    "    word.pop(n)\n",
    "    return \"\".join(word)\n",
    "\n",
    "print(missing_char('kitten',1))\n",
    "print(missing_char('kitten',0))\n",
    "print(missing_char('kitten',4))"
   ]
  },
  {
   "cell_type": "markdown",
   "metadata": {},
   "source": [
    "# Centered Average\n",
    "\n",
    "Return the \"centered\" average of an array of ints, which we'll say is the mean average of the values, except ignoring the largest and smallest values in the array. If there are multiple copies of the smallest value, ignore just one copy, and likewise for the largest value.  You may assume that the array is length 3 or more and will never contain negative values. \n",
    "* Round your answer to the nearest whole number.\n",
    "\n",
    "```\n",
    "centered_average([1, 2, 3, 4, 100]) → 3\n",
    "centered_average([1, 1, 5, 5, 10, 8, 7]) → 5\n",
    "```"
   ]
  },
  {
   "cell_type": "code",
   "execution_count": 27,
   "metadata": {},
   "outputs": [
    {
     "data": {
      "text/plain": [
       "54"
      ]
     },
     "execution_count": 27,
     "metadata": {},
     "output_type": "execute_result"
    }
   ],
   "source": [
    "example_list = [100, 100, 50, 75, 50, 25, 25, 25]\n",
    "max_index = example_list.index(max(example_list))\n",
    "example_list.pop(max_index)\n",
    "min_index = example_list.index(min(example_list))\n",
    "example_list.pop(min_index)\n",
    "\n",
    "average = round(sum(example_list)/len(example_list))\n",
    "average"
   ]
  },
  {
   "cell_type": "code",
   "execution_count": null,
   "metadata": {},
   "outputs": [],
   "source": []
  }
 ],
 "metadata": {
  "kernelspec": {
   "display_name": "Python 3 (ipykernel)",
   "language": "python",
   "name": "python3"
  },
  "language_info": {
   "codemirror_mode": {
    "name": "ipython",
    "version": 3
   },
   "file_extension": ".py",
   "mimetype": "text/x-python",
   "name": "python",
   "nbconvert_exporter": "python",
   "pygments_lexer": "ipython3",
   "version": "3.10.9"
  }
 },
 "nbformat": 4,
 "nbformat_minor": 4
}
